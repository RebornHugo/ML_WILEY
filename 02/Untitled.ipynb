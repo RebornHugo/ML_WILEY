{
 "cells": [
  {
   "cell_type": "code",
   "execution_count": 1,
   "metadata": {},
   "outputs": [
    {
     "name": "stdout",
     "output_type": "stream",
     "text": [
      "444\n"
     ]
    }
   ],
   "source": [
    "print(123+321)"
   ]
  },
  {
   "cell_type": "code",
   "execution_count": 2,
   "metadata": {
    "slideshow": {
     "slide_type": "slide"
    }
   },
   "outputs": [
    {
     "name": "stdout",
     "output_type": "stream",
     "text": [
      "                  Length  Diameter    Height  Whole weight  Shucked weight  \\\n",
      "Length          1.000000  0.986812  0.827554      0.925261        0.897914   \n",
      "Diameter        0.986812  1.000000  0.833684      0.925452        0.893162   \n",
      "Height          0.827554  0.833684  1.000000      0.819221        0.774972   \n",
      "Whole weight    0.925261  0.925452  0.819221      1.000000        0.969405   \n",
      "Shucked weight  0.897914  0.893162  0.774972      0.969405        1.000000   \n",
      "Viscera weight  0.903018  0.899724  0.798319      0.966375        0.931961   \n",
      "Shell weight    0.897706  0.905330  0.817338      0.955355        0.882617   \n",
      "Rings           0.556720  0.574660  0.557467      0.540390        0.420884   \n",
      "\n",
      "                Viscera weight  Shell weight     Rings  \n",
      "Length                0.903018      0.897706  0.556720  \n",
      "Diameter              0.899724      0.905330  0.574660  \n",
      "Height                0.798319      0.817338  0.557467  \n",
      "Whole weight          0.966375      0.955355  0.540390  \n",
      "Shucked weight        0.931961      0.882617  0.420884  \n",
      "Viscera weight        1.000000      0.907656  0.503819  \n",
      "Shell weight          0.907656      1.000000  0.627574  \n",
      "Rings                 0.503819      0.627574  1.000000  \n"
     ]
    },
    {
     "data": {
      "image/png": "[encoded data removed]",
      "text/plain": [
       "<matplotlib.figure.Figure at 0x72c6090>"
      ]
     },
     "metadata": {},
     "output_type": "display_data"
    }
   ],
   "source": [
    "__author__ = 'mike_bowles'\n",
    "import pandas as pd\n",
    "from pandas import DataFrame\n",
    "import matplotlib.pyplot as plot\n",
    "\n",
    "target_url = (\"http://archive.ics.uci.edu/ml/machine-\"\n",
    "              \"learning-databases/abalone/abalone.data\")\n",
    "#read abalone data\n",
    "abalone = pd.read_csv(target_url,header=None, prefix=\"V\")\n",
    "abalone.columns = ['Sex', 'Length', 'Diameter', 'Height',\n",
    "                   'Whole weight', 'Shucked weight',\n",
    "                   'Viscera weight', 'Shell weight', 'Rings']\n",
    "\n",
    "#calculate correlation matrix\n",
    "corMat = DataFrame(abalone.iloc[:,1:9].corr())\n",
    "#print correlation matrix\n",
    "print(corMat)\n",
    "\n",
    "#visualize correlations using heatmap\n",
    "plot.pcolor(corMat)\n",
    "plot.show()\n",
    "\n"
   ]
  },
  {
   "cell_type": "markdown",
   "metadata": {
    "slideshow": {
     "slide_type": "notes"
    }
   },
   "source": [
    "this is a test jupyter notebook file"
   ]
  },
  {
   "cell_type": "code",
   "execution_count": null,
   "metadata": {
    "collapsed": true
   },
   "outputs": [],
   "source": []
  },
  {
   "cell_type": "code",
   "execution_count": null,
   "metadata": {
    "collapsed": true
   },
   "outputs": [],
   "source": []
  }
 ],
 "metadata": {
  "celltoolbar": "Slideshow",
  "kernelspec": {
   "display_name": "Python 2",
   "language": "python",
   "name": "python2"
  },
  "language_info": {
   "codemirror_mode": {
    "name": "ipython",
    "version": 2
   },
   "file_extension": ".py",
   "mimetype": "text/x-python",
   "name": "python",
   "nbconvert_exporter": "python",
   "pygments_lexer": "ipython2",
   "version": "2.7.13"
  }
 },
 "nbformat": 4,
 "nbformat_minor": 2
}
